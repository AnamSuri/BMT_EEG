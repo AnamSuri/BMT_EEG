{
 "cells": [
  {
   "cell_type": "markdown",
   "metadata": {},
   "source": [
    "## Skilled Forgery using MI1 task"
   ]
  },
  {
   "cell_type": "code",
   "execution_count": null,
   "metadata": {},
   "outputs": [],
   "source": [
    "target_subject = 'S5'\n",
    "test_session = ['S3']\n",
    "path = 'give the path here'\n",
    "all_subjects = ['S1', 'S2', 'S3', 'S4', 'S5', 'S6','S7', 'S8', 'S9', 'S10','S11', 'S12', 'S13', 'S14', 'S15', 'S16','S17', 'S18', 'S19', 'S20']\n"
   ]
  },
  {
   "cell_type": "code",
   "execution_count": 344,
   "metadata": {},
   "outputs": [],
   "source": [
    "# Import necessary libraries\n",
    "import torch\n",
    "import numpy as np\n",
    "import random\n",
    "import pandas as pd\n",
    "import matplotlib.pyplot as plt\n",
    "import os\n",
    "import seaborn as sns\n",
    "from sklearn.preprocessing import normalize\n",
    "from sklearn.model_selection import StratifiedKFold\n",
    "from sklearn.metrics import classification_report, confusion_matrix, accuracy_score, precision_score, recall_score, f1_score, roc_curve, roc_auc_score\n",
    "from torch.utils.data import TensorDataset, DataLoader\n",
    "import torch.nn as nn\n",
    "import torch.nn.functional as F\n",
    "import torch.optim as optim\n",
    "from sklearn.utils import shuffle\n"
   ]
  },
  {
   "cell_type": "code",
   "execution_count": 345,
   "metadata": {},
   "outputs": [],
   "source": [
    "\n",
    "# Set random seeds for reproducibility\n",
    "seed = 42\n",
    "np.random.seed(seed)\n",
    "torch.manual_seed(seed)\n",
    "random.seed(seed)\n",
    "if torch.cuda.is_available():\n",
    "    torch.cuda.manual_seed(seed)\n",
    "    torch.cuda.manual_seed_all(seed)\n",
    "    torch.backends.cudnn.deterministic = True\n",
    "    torch.backends.cudnn.benchmark = False\n"
   ]
  },
  {
   "cell_type": "code",
   "execution_count": 346,
   "metadata": {},
   "outputs": [],
   "source": [
    "\n",
    "class EEGCNN_GRU(nn.Module):\n",
    "    def __init__(self, input_channels, sequence_length, hidden_size, num_classes):\n",
    "        super(EEGCNN_GRU, self).__init__()\n",
    "        self.conv1 = nn.Conv1d(input_channels, 64, 3)\n",
    "        self.bn1 = nn.BatchNorm1d(64)\n",
    "        self.conv2 = nn.Conv1d(64, 64, 3)\n",
    "        self.bn2 = nn.BatchNorm1d(64)\n",
    "        self.conv3 = nn.Conv1d(64, 64, 3)\n",
    "        self.bn3 = nn.BatchNorm1d(64)\n",
    "        self.dropout1 = nn.Dropout(0.5)\n",
    "        self.maxpool = nn.MaxPool1d(2)\n",
    "        self.gru = nn.GRU(64, hidden_size, batch_first=True)\n",
    "        self.dropout2 = nn.Dropout(0.5)\n",
    "        self.fc1 = nn.Linear(hidden_size, hidden_size)\n",
    "        self.fc2 = nn.Linear(hidden_size, num_classes)\n",
    "\n",
    "    def forward(self, x):\n",
    "        x = x.permute(0, 2, 1)\n",
    "        x = F.elu(self.bn1(self.conv1(x)))\n",
    "        x = F.elu(self.bn2(self.conv2(x)))\n",
    "        x = F.elu(self.bn3(self.conv3(x)))\n",
    "        x = self.dropout1(x)\n",
    "        x = self.maxpool(x)\n",
    "        x = x.permute(0, 2, 1)\n",
    "        x, _ = self.gru(x)\n",
    "        x = self.dropout2(x)\n",
    "        x = x[:, -1, :]\n",
    "        x = F.elu(self.fc1(x))\n",
    "        x = F.log_softmax(self.fc2(x), dim=1)\n",
    "        return x\n"
   ]
  },
  {
   "cell_type": "code",
   "execution_count": 347,
   "metadata": {},
   "outputs": [],
   "source": [
    "#batch_size = 32\n",
    "batch_size = 32\n",
    "\n",
    "num_classes = 2\n",
    "\n",
    "input_channels = 20\n",
    "\n",
    "sequence_length = 100\n",
    "\n",
    "#hidden_size = 128\n",
    "hidden_size = 200\n",
    "\n",
    "#num_epochs = 40\n",
    "num_epochs = 60\n",
    "\n",
    "num_folds = 10"
   ]
  },
  {
   "cell_type": "code",
   "execution_count": null,
   "metadata": {},
   "outputs": [
    {
     "name": "stderr",
     "output_type": "stream",
     "text": [
      "C:\\Users\\workstation\\AppData\\Local\\Temp\\ipykernel_2324\\766318909.py:6: FutureWarning: You are using `torch.load` with `weights_only=False` (the current default value), which uses the default pickle module implicitly. It is possible to construct malicious pickle data which will execute arbitrary code during unpickling (See https://github.com/pytorch/pytorch/blob/main/SECURITY.md#untrusted-models for more details). In a future release, the default value for `weights_only` will be flipped to `True`. This limits the functions that could be executed during unpickling. Arbitrary objects will no longer be allowed to be loaded via this mode unless they are explicitly allowlisted by the user via `torch.serialization.add_safe_globals`. We recommend you start setting `weights_only=True` for any use case where you don't have full control of the loaded file. Please open an issue on GitHub for any issues related to this experimental feature.\n",
      "  model.load_state_dict(torch.load(f'D:\\\\EEG_work_2024\\\\work_may_2025\\\\MI4_results\\\\results_MI4_{target_subject}\\\\{target_subject}_model.pth'))\n"
     ]
    },
    {
     "data": {
      "text/plain": [
       "EEGCNN_GRU(\n",
       "  (conv1): Conv1d(20, 64, kernel_size=(3,), stride=(1,))\n",
       "  (bn1): BatchNorm1d(64, eps=1e-05, momentum=0.1, affine=True, track_running_stats=True)\n",
       "  (conv2): Conv1d(64, 64, kernel_size=(3,), stride=(1,))\n",
       "  (bn2): BatchNorm1d(64, eps=1e-05, momentum=0.1, affine=True, track_running_stats=True)\n",
       "  (conv3): Conv1d(64, 64, kernel_size=(3,), stride=(1,))\n",
       "  (bn3): BatchNorm1d(64, eps=1e-05, momentum=0.1, affine=True, track_running_stats=True)\n",
       "  (dropout1): Dropout(p=0.5, inplace=False)\n",
       "  (maxpool): MaxPool1d(kernel_size=2, stride=2, padding=0, dilation=1, ceil_mode=False)\n",
       "  (gru): GRU(64, 200, batch_first=True)\n",
       "  (dropout2): Dropout(p=0.5, inplace=False)\n",
       "  (fc1): Linear(in_features=200, out_features=200, bias=True)\n",
       "  (fc2): Linear(in_features=200, out_features=2, bias=True)\n",
       ")"
      ]
     },
     "execution_count": 348,
     "metadata": {},
     "output_type": "execute_result"
    }
   ],
   "source": [
    "# \"D:\\EEG_work_2024\\work_may_2025\\MI2_results\\results_MI2_S1\\S1_model.pth\"\n",
    "device = 'cuda' if torch.cuda.is_available() else 'cpu'\n",
    "model = EEGCNN_GRU(input_channels, sequence_length, hidden_size, num_classes).to(device)\n",
    "criterion = torch.nn.NLLLoss()\n",
    "optimizer = optim.Adam(model.parameters(), lr=0.001)\n",
    "model.load_state_dict(torch.load(f'D:\\\\EEG_work_2024\\\\work_may_2025\\\\MI1_results\\\\results_MI1_{target_subject}\\\\{target_subject}_model.pth'))\n",
    "model.eval()"
   ]
  },
  {
   "cell_type": "code",
   "execution_count": null,
   "metadata": {},
   "outputs": [],
   "source": [
    "## making test data\n",
    "Data_VEP_test = pd.DataFrame()\n",
    "for session in test_session:\n",
    "    vep_path = os.path.join(path, target_subject, 'MI1', f'{session}.csv' )\n",
    "    vep_data_test = pd.read_csv(vep_path)\n",
    "    Data_VEP_test = pd.concat([Data_VEP_test, vep_data_test], ignore_index=True)\n",
    "\n",
    "Data_VEP_test.drop(['time'], axis=1, inplace=True)\n",
    "normalize_vep_test = normalize(Data_VEP_test, norm='max', axis=0)\n",
    "Data_VEP_test = pd.DataFrame(normalize_vep_test, columns=Data_VEP_test.columns)"
   ]
  },
  {
   "cell_type": "code",
   "execution_count": 350,
   "metadata": {},
   "outputs": [
    {
     "data": {
      "text/plain": [
       "(12800, 20)"
      ]
     },
     "execution_count": 350,
     "metadata": {},
     "output_type": "execute_result"
    }
   ],
   "source": [
    "Data_VEP_test.shape"
   ]
  },
  {
   "cell_type": "markdown",
   "metadata": {},
   "source": [
    "## Skilled user Test Dataset"
   ]
  },
  {
   "cell_type": "code",
   "execution_count": null,
   "metadata": {},
   "outputs": [],
   "source": [
    "Data_skilled_forgery = pd.DataFrame()\n",
    "tasks_VEP = ['MI1']\n",
    "for sub in all_subjects:\n",
    "    if sub == target_subject:\n",
    "        continue\n",
    "    for task in tasks_VEP:\n",
    "        for session in test_session:\n",
    "            non_vep_path = os.path.join(path, sub, task, f'{session}.csv')\n",
    "            non_vep_data_test = pd.read_csv(non_vep_path)\n",
    "            Data_skilled_forgery = pd.concat([Data_skilled_forgery, non_vep_data_test], ignore_index=True)\n",
    "Data_skilled_forgery.drop(['time'], axis=1, inplace=True)\n",
    "normalize_non_vep_test = normalize(Data_skilled_forgery, norm='max', axis=0)\n",
    "Data_skilled_forgery = pd.DataFrame(normalize_non_vep_test, columns=Data_skilled_forgery.columns)\n"
   ]
  },
  {
   "cell_type": "code",
   "execution_count": 352,
   "metadata": {},
   "outputs": [
    {
     "data": {
      "text/plain": [
       "(243200, 20)"
      ]
     },
     "execution_count": 352,
     "metadata": {},
     "output_type": "execute_result"
    }
   ],
   "source": [
    "Data_skilled_forgery.shape"
   ]
  },
  {
   "cell_type": "code",
   "execution_count": 353,
   "metadata": {},
   "outputs": [],
   "source": [
    "\n",
    "# Function to create dataset\n",
    "def create_dataset(df, lookback, label):\n",
    "    df = df.to_numpy()\n",
    "    X, y = [], []\n",
    "    for i in range(0, len(df) - lookback + 1, lookback):\n",
    "        X.append(df[i:i + lookback])\n",
    "        y.append(label)\n",
    "    return np.array(X), np.array(y)\n",
    "lookback = 100"
   ]
  },
  {
   "cell_type": "code",
   "execution_count": 354,
   "metadata": {},
   "outputs": [],
   "source": [
    "X_vep_test, y_vep_test = create_dataset(Data_VEP_test, lookback, label=1)\n",
    "X_non_vep_test, y_non_vep_test = create_dataset(Data_skilled_forgery, lookback, label=0)"
   ]
  },
  {
   "cell_type": "code",
   "execution_count": 355,
   "metadata": {},
   "outputs": [
    {
     "data": {
      "text/plain": [
       "((128, 100, 20), (128,), (2432, 100, 20), (2432,))"
      ]
     },
     "execution_count": 355,
     "metadata": {},
     "output_type": "execute_result"
    }
   ],
   "source": [
    "X_vep_test.shape, y_vep_test.shape, X_non_vep_test.shape, y_non_vep_test.shape"
   ]
  },
  {
   "cell_type": "code",
   "execution_count": 356,
   "metadata": {},
   "outputs": [],
   "source": [
    "X_test = np.concatenate((X_non_vep_test, X_vep_test), axis=0)\n",
    "y_test = np.concatenate((y_non_vep_test, y_vep_test), axis=0)"
   ]
  },
  {
   "cell_type": "code",
   "execution_count": 357,
   "metadata": {},
   "outputs": [
    {
     "data": {
      "text/plain": [
       "((2560, 100, 20), (2560,))"
      ]
     },
     "execution_count": 357,
     "metadata": {},
     "output_type": "execute_result"
    }
   ],
   "source": [
    "X_test.shape, y_test.shape"
   ]
  },
  {
   "cell_type": "code",
   "execution_count": 358,
   "metadata": {},
   "outputs": [],
   "source": [
    "X_test, y_test = torch.tensor(X_test).float(), torch.tensor(y_test).long()"
   ]
  },
  {
   "cell_type": "code",
   "execution_count": 359,
   "metadata": {},
   "outputs": [
    {
     "data": {
      "text/plain": [
       "(torch.Size([2560, 100, 20]), torch.Size([2560]))"
      ]
     },
     "execution_count": 359,
     "metadata": {},
     "output_type": "execute_result"
    }
   ],
   "source": [
    "X_test.shape, y_test.shape"
   ]
  },
  {
   "cell_type": "code",
   "execution_count": null,
   "metadata": {},
   "outputs": [],
   "source": [
    "model.eval()\n",
    "test_loader = DataLoader(TensorDataset(X_test, y_test), batch_size=batch_size, shuffle=False)\n",
    "correct, total = 0, 0\n",
    "predicted_labels, true_labels, predicted_probs_list = [], [], []\n",
    "\n",
    "with torch.no_grad():\n",
    "    for inputs, labels in test_loader:\n",
    "        inputs, labels = inputs.to(device), labels.to(device)\n",
    "        outputs = model(inputs)\n",
    "        _, predicted = torch.max(outputs.data, 1)\n",
    "        predicted_labels.extend(predicted.cpu().numpy())\n",
    "        true_labels.extend(labels.cpu().numpy())\n",
    "        predicted_probs = F.softmax(outputs, dim=1)\n",
    "        predicted_probs_list.append(predicted_probs.cpu().numpy())\n",
    "        total += labels.size(0)\n",
    "        correct += (predicted == labels).sum().item()\n",
    "\n",
    "predicted_probs_np = np.concatenate(predicted_probs_list)\n",
    "test_accuracy = 100 * correct / total\n",
    "\n",
    "os.makedirs(f\"Skilled_forgery_results_MI1_{target_subject}\", exist_ok=True)\n",
    "\n",
    "# Metrics calculations\n",
    "acc = accuracy_score(true_labels, predicted_labels)\n",
    "prec = precision_score(true_labels, predicted_labels, average='weighted')\n",
    "rec = recall_score(true_labels, predicted_labels, average='weighted')\n",
    "f1 = f1_score(true_labels, predicted_labels, average='weighted')\n",
    "\n",
    "cm = confusion_matrix(true_labels, predicted_labels)\n",
    "tn, fp, fn, tp = cm.ravel()\n",
    "tpr = tp / (tp + fn)\n",
    "fpr = fp / (fp + tn)\n",
    "\n",
    "far = fp / (fp + tn) if (fp + tn) > 0 else 0  # False Acceptance Rate\n",
    "frr = fn / (fn + tp) if (fn + tp) > 0 else 0  # False Rejection Rate\n",
    "\n",
    "# Calculate EER\n",
    "fpr_curve, tpr_curve, thresholds = roc_curve(true_labels, predicted_probs_np[:, 1])\n",
    "eer_threshold = thresholds[np.nanargmin(np.abs(fpr_curve - (1 - tpr_curve)))]\n",
    "eer = fpr_curve[np.nanargmin(np.abs(fpr_curve - (1 - tpr_curve)))]\n",
    "\n",
    "auc = roc_auc_score(true_labels, predicted_probs_np[:, 1])\n",
    "\n",
    "# Save metrics as CSV\n",
    "metrics = {\n",
    "    \"test_accuracy\": test_accuracy,\n",
    "    \"precision\": prec,\n",
    "    \"recall\": rec,\n",
    "    \"f1_score\": f1,\n",
    "    \"TPR\": tpr,\n",
    "    \"FPR\": fpr,\n",
    "    \"AUC\": auc,\n",
    "    \"EER\": eer,\n",
    "    \"FAR\": far,\n",
    "    \"FRR\": frr\n",
    "}\n",
    "\n",
    "metrics_df = pd.DataFrame([metrics])\n",
    "metrics_df.to_csv(f\"Skilled_forgery_results_MI1_{target_subject}/metrics_subject_{target_subject}.csv\", index=False)\n",
    "\n",
    "# Save Confusion Matrix\n",
    "plt.figure(figsize=(10, 8))\n",
    "sns.heatmap(cm, annot=True, fmt='d', cmap='Blues', cbar=False, annot_kws={\"size\": 35})\n",
    "plt.xlabel('Predicted labels')\n",
    "plt.ylabel('True labels')\n",
    "plt.title('Confusion Matrix')\n",
    "plt.savefig(f\"Skilled_forgery_results_MI1_{target_subject}/confusion_matrix_subject_{target_subject}.png\")\n",
    "plt.close()\n",
    "\n",
    "# Save ROC Curve\n",
    "plt.figure()\n",
    "plt.plot(fpr_curve, tpr_curve, label=f\"ROC Curve (AUC = {auc:.2f})\")\n",
    "plt.xlabel('False Positive Rate')\n",
    "plt.ylabel('True Positive Rate')\n",
    "plt.title('Receiver Operating Characteristic (ROC) Curve')\n",
    "plt.legend()\n",
    "plt.savefig(f\"Skilled_forgery_results_MI1_{target_subject}/roc_curve_subject_{target_subject}.png\")\n",
    "plt.close()\n",
    "\n",
    "print(f\"Completed processing for subject {target_subject}.\")\n"
   ]
  }
 ],
 "metadata": {
  "kernelspec": {
   "display_name": "anam_venv_feb2025",
   "language": "python",
   "name": "python3"
  },
  "language_info": {
   "codemirror_mode": {
    "name": "ipython",
    "version": 3
   },
   "file_extension": ".py",
   "mimetype": "text/x-python",
   "name": "python",
   "nbconvert_exporter": "python",
   "pygments_lexer": "ipython3",
   "version": "3.11.9"
  }
 },
 "nbformat": 4,
 "nbformat_minor": 2
}
